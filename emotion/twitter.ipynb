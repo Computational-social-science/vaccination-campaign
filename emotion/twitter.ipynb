{
 "cells": [
  {
   "cell_type": "code",
   "execution_count": 1,
   "id": "stunning-reservation",
   "metadata": {},
   "outputs": [],
   "source": [
    "import os\n",
    "import math\n",
    "import datetime\n",
    "\n",
    "from tqdm import tqdm\n",
    "\n",
    "import pandas as pd\n",
    "import numpy as np\n",
    "\n",
    "import tensorflow as tf\n",
    "from tensorflow import keras\n",
    "from tensorflow.keras.layers import Dense, GRU, Embedding, LSTM, Bidirectional\n",
    "from tensorflow.keras.models import Sequential\n",
    "from tensorflow.keras.preprocessing.text import Tokenizer\n",
    "from tensorflow.keras.preprocessing.sequence import pad_sequences\n",
    "from tensorflow.keras.optimizers import RMSprop\n",
    "from tensorflow.keras.optimizers import Adam\n",
    "from tensorflow.keras.callbacks import EarlyStopping, ModelCheckpoint, TensorBoard, ReduceLROnPlateau\n",
    "from tensorflow.keras import regularizers,layers\n",
    "\n",
    "import bert\n",
    "from bert import BertModelLayer\n",
    "from bert.loader import StockBertConfig, map_stock_config_to_params, load_stock_weights\n",
    "from bert.tokenization.bert_tokenization import FullTokenizer\n",
    "\n",
    "import seaborn as sns\n",
    "from pylab import rcParams\n",
    "import matplotlib.pyplot as plt\n",
    "from matplotlib.ticker import MaxNLocator\n",
    "from matplotlib import rc\n",
    "\n",
    "from sklearn.metrics import confusion_matrix, classification_report\n",
    "\n",
    "%matplotlib inline\n",
    "%config InlineBackend.figure_format='retina'\n",
    "\n",
    "sns.set(style='whitegrid', palette='muted', font_scale=1.2)\n",
    "\n",
    "HAPPY_COLORS_PALETTE = [\"#01BEFE\", \"#FFDD00\", \"#FF7D00\", \"#FF006D\", \"#ADFF02\", \"#8F00FF\"]\n",
    "\n",
    "sns.set_palette(sns.color_palette(HAPPY_COLORS_PALETTE))\n",
    "\n",
    "rcParams['figure.figsize'] = 12, 8\n",
    "\n",
    "RANDOM_SEED = 42\n",
    "\n",
    "np.random.seed(RANDOM_SEED)\n",
    "tf.random.set_seed(RANDOM_SEED)"
   ]
  },
  {
   "cell_type": "code",
   "execution_count": 2,
   "id": "former-vitamin",
   "metadata": {},
   "outputs": [],
   "source": [
    "physical_devices = tf.config.experimental.list_physical_devices('GPU')\n",
    "assert len(physical_devices) > 0, \"Not enough GPU hardware devices available\"\n",
    "tf.config.experimental.set_memory_growth(physical_devices[0], True)"
   ]
  },
  {
   "cell_type": "code",
   "execution_count": 3,
   "id": "scientific-invasion",
   "metadata": {},
   "outputs": [],
   "source": [
    "train= pd.read_csv(\"training.1600000.processed.noemoticon.csv\", encoding='ISO-8859-1', header=None)"
   ]
  },
  {
   "cell_type": "code",
   "execution_count": 4,
   "id": "apart-dietary",
   "metadata": {},
   "outputs": [],
   "source": [
    "train.rename(columns = {0: \"intent\", 5:\"text\"},  inplace=True)"
   ]
  },
  {
   "cell_type": "code",
   "execution_count": 5,
   "id": "distributed-filing",
   "metadata": {},
   "outputs": [],
   "source": [
    "train['intent']=train['intent'].replace([0,4],[0,1])"
   ]
  },
  {
   "cell_type": "code",
   "execution_count": 6,
   "id": "regular-cooperative",
   "metadata": {},
   "outputs": [],
   "source": [
    "train = train.drop([1],axis=1)\n",
    "train = train.drop([2],axis=1)\n",
    "train = train.drop([3],axis=1)\n",
    "train = train.drop([4],axis=1)"
   ]
  },
  {
   "cell_type": "code",
   "execution_count": 7,
   "id": "manual-america",
   "metadata": {},
   "outputs": [],
   "source": [
    "train = train.sample(len(train))"
   ]
  },
  {
   "cell_type": "code",
   "execution_count": 8,
   "id": "parallel-sucking",
   "metadata": {},
   "outputs": [],
   "source": [
    "data = np.array(train)"
   ]
  },
  {
   "cell_type": "code",
   "execution_count": 9,
   "id": "fleet-enzyme",
   "metadata": {},
   "outputs": [],
   "source": [
    "allurl_fea = [d[0] for d in data]"
   ]
  },
  {
   "cell_type": "code",
   "execution_count": 10,
   "id": "classified-potato",
   "metadata": {},
   "outputs": [],
   "source": [
    "test=data[:int(0.001*len(allurl_fea))]"
   ]
  },
  {
   "cell_type": "code",
   "execution_count": 11,
   "id": "hourly-aurora",
   "metadata": {},
   "outputs": [],
   "source": [
    "test=pd.DataFrame(test,columns=['intent','text'])"
   ]
  },
  {
   "cell_type": "code",
   "execution_count": 12,
   "id": "sticky-failing",
   "metadata": {},
   "outputs": [],
   "source": [
    "train.index = range(len(train))"
   ]
  },
  {
   "cell_type": "code",
   "execution_count": 13,
   "id": "athletic-stupid",
   "metadata": {},
   "outputs": [
    {
     "data": {
      "text/html": [
       "<div>\n",
       "<style scoped>\n",
       "    .dataframe tbody tr th:only-of-type {\n",
       "        vertical-align: middle;\n",
       "    }\n",
       "\n",
       "    .dataframe tbody tr th {\n",
       "        vertical-align: top;\n",
       "    }\n",
       "\n",
       "    .dataframe thead th {\n",
       "        text-align: right;\n",
       "    }\n",
       "</style>\n",
       "<table border=\"1\" class=\"dataframe\">\n",
       "  <thead>\n",
       "    <tr style=\"text-align: right;\">\n",
       "      <th></th>\n",
       "      <th>intent</th>\n",
       "      <th>text</th>\n",
       "    </tr>\n",
       "  </thead>\n",
       "  <tbody>\n",
       "    <tr>\n",
       "      <th>0</th>\n",
       "      <td>0</td>\n",
       "      <td>@chrishasboobs AHHH I HOPE YOUR OK!!!</td>\n",
       "    </tr>\n",
       "    <tr>\n",
       "      <th>1</th>\n",
       "      <td>0</td>\n",
       "      <td>@misstoriblack cool , i have no tweet apps  fo...</td>\n",
       "    </tr>\n",
       "    <tr>\n",
       "      <th>2</th>\n",
       "      <td>0</td>\n",
       "      <td>@TiannaChaos i know  just family drama. its la...</td>\n",
       "    </tr>\n",
       "    <tr>\n",
       "      <th>3</th>\n",
       "      <td>0</td>\n",
       "      <td>School email won't open  and I have geography ...</td>\n",
       "    </tr>\n",
       "    <tr>\n",
       "      <th>4</th>\n",
       "      <td>0</td>\n",
       "      <td>upper airways problem</td>\n",
       "    </tr>\n",
       "    <tr>\n",
       "      <th>...</th>\n",
       "      <td>...</td>\n",
       "      <td>...</td>\n",
       "    </tr>\n",
       "    <tr>\n",
       "      <th>1599995</th>\n",
       "      <td>0</td>\n",
       "      <td>this song's middle change just doesn't want to...</td>\n",
       "    </tr>\n",
       "    <tr>\n",
       "      <th>1599996</th>\n",
       "      <td>1</td>\n",
       "      <td>@officialnjonas Good luck with that</td>\n",
       "    </tr>\n",
       "    <tr>\n",
       "      <th>1599997</th>\n",
       "      <td>0</td>\n",
       "      <td>@ProudGamerTweet I rather average 32370</td>\n",
       "    </tr>\n",
       "    <tr>\n",
       "      <th>1599998</th>\n",
       "      <td>0</td>\n",
       "      <td>Pickin up @misstinayao waitin on @sadittysash ...</td>\n",
       "    </tr>\n",
       "    <tr>\n",
       "      <th>1599999</th>\n",
       "      <td>0</td>\n",
       "      <td>@ home studying for maths wooot ! im so going ...</td>\n",
       "    </tr>\n",
       "  </tbody>\n",
       "</table>\n",
       "<p>1600000 rows × 2 columns</p>\n",
       "</div>"
      ],
      "text/plain": [
       "         intent                                               text\n",
       "0             0             @chrishasboobs AHHH I HOPE YOUR OK!!! \n",
       "1             0  @misstoriblack cool , i have no tweet apps  fo...\n",
       "2             0  @TiannaChaos i know  just family drama. its la...\n",
       "3             0  School email won't open  and I have geography ...\n",
       "4             0                             upper airways problem \n",
       "...         ...                                                ...\n",
       "1599995       0  this song's middle change just doesn't want to...\n",
       "1599996       1               @officialnjonas Good luck with that \n",
       "1599997       0           @ProudGamerTweet I rather average 32370 \n",
       "1599998       0  Pickin up @misstinayao waitin on @sadittysash ...\n",
       "1599999       0  @ home studying for maths wooot ! im so going ...\n",
       "\n",
       "[1600000 rows x 2 columns]"
      ]
     },
     "execution_count": 13,
     "metadata": {},
     "output_type": "execute_result"
    }
   ],
   "source": [
    "train"
   ]
  },
  {
   "cell_type": "code",
   "execution_count": 14,
   "id": "annoying-saint",
   "metadata": {
    "scrolled": true
   },
   "outputs": [
    {
     "name": "stderr",
     "output_type": "stream",
     "text": [
      "C:\\Users\\86188\\anaconda3\\envs\\py36\\lib\\site-packages\\seaborn\\_decorators.py:43: FutureWarning: Pass the following variable as a keyword arg: x. From version 0.12, the only valid positional argument will be `data`, and passing other arguments without an explicit keyword will result in an error or misinterpretation.\n",
      "  FutureWarning\n"
     ]
    },
    {
     "data": {
      "image/png": "[encoded data removed]",
      "text/plain": [
       "<Figure size 432x288 with 1 Axes>"
      ]
     },
     "metadata": {
      "image/png": {
       "height": 290,
       "width": 420
      },
      "needs_background": "light"
     },
     "output_type": "display_data"
    }
   ],
   "source": [
    "HAPPY_COLORS_PALETTE = [\"#01BEFE\", \"#FFDD00\", \"#FF7D00\", \"#FF006D\", \"#ADFF02\", \"#8F00FF\", \"#817936\"]\n",
    "chart = sns.countplot(train.intent, palette=HAPPY_COLORS_PALETTE)\n",
    "plt.title(\"Number of train per sentiment\")\n",
    "chart.set_xticklabels(chart.get_xticklabels(), rotation=30, horizontalalignment='right');"
   ]
  },
  {
   "cell_type": "code",
   "execution_count": 15,
   "id": "acoustic-bacteria",
   "metadata": {},
   "outputs": [],
   "source": [
    "os.makedirs(\"model\", exist_ok=True)"
   ]
  },
  {
   "cell_type": "code",
   "execution_count": 16,
   "id": "small-first",
   "metadata": {},
   "outputs": [],
   "source": [
    "bert_model_name=\"uncased_L-12_H-768_A-12\"\n",
    "\n",
    "bert_ckpt_dir = os.path.join(\"model/\", bert_model_name)\n",
    "bert_ckpt_file = os.path.join(bert_ckpt_dir, \"bert_model.ckpt\")\n",
    "bert_config_file = os.path.join(bert_ckpt_dir, \"bert_config.json\")"
   ]
  },
  {
   "cell_type": "code",
   "execution_count": 17,
   "id": "third-paper",
   "metadata": {},
   "outputs": [],
   "source": [
    "#function 的输入叫“argument”\n",
    "class IntentDetectionData:\n",
    "  DATA_COLUMN = \"text\"\n",
    "  LABEL_COLUMN = \"intent\"\n",
    "\n",
    "  def __init__(self, train, test, tokenizer: FullTokenizer, classes, max_seq_len=192):\n",
    "    self.tokenizer = tokenizer\n",
    "    self.max_seq_len = 0\n",
    "    self.classes = classes\n",
    "    # map(function, input) e.g. input:x,function = x**2, x= [2,3]\n",
    "    train, test = map(lambda df: df.reindex(df[IntentDetectionData.DATA_COLUMN].str.len().sort_values().index), [train, test])\n",
    "    #print (train.head)\n",
    "    ((self.train_x, self.train_y), (self.test_x, self.test_y)) = map(self._prepare, [train, test])\n",
    "\n",
    "    print(\"max seq_len\", self.max_seq_len)\n",
    "    self.max_seq_len = min(self.max_seq_len, max_seq_len)\n",
    "    self.train_x, self.test_x = map(self._pad, [self.train_x, self.test_x])\n",
    "\n",
    "  def _prepare(self, df):\n",
    "    x, y = [], []\n",
    "    \n",
    "    for _, row in tqdm(df.iterrows()):\n",
    "      text, label = row[IntentDetectionData.DATA_COLUMN], row[IntentDetectionData.LABEL_COLUMN]\n",
    "      tokens = self.tokenizer.tokenize(text)\n",
    "      tokens = [\"[CLS]\"] + tokens + [\"[SEP]\"]\n",
    "      token_ids = self.tokenizer.convert_tokens_to_ids(tokens)\n",
    "      self.max_seq_len = max(self.max_seq_len, len(token_ids))\n",
    "      x.append(token_ids)\n",
    "      y.append(self.classes.index(label))\n",
    "\n",
    "    return np.array(x), np.array(y)\n",
    "\n",
    "  def _pad(self, ids):\n",
    "    x = []\n",
    "    for input_ids in ids:\n",
    "      input_ids = input_ids[:min(len(input_ids), self.max_seq_len - 2)]\n",
    "      input_ids = [0] * (self.max_seq_len - len(input_ids)) + input_ids\n",
    "      x.append(np.array(input_ids))\n",
    "    return np.array(x)"
   ]
  },
  {
   "cell_type": "code",
   "execution_count": 18,
   "id": "recognized-battlefield",
   "metadata": {},
   "outputs": [],
   "source": [
    "tokenizer = FullTokenizer(vocab_file=os.path.join(bert_ckpt_dir, \"vocab.txt\"))"
   ]
  },
  {
   "cell_type": "code",
   "execution_count": 19,
   "id": "southern-andrews",
   "metadata": {},
   "outputs": [],
   "source": [
    "def create_model(max_seq_len, bert_ckpt_file):\n",
    "\n",
    "  with tf.io.gfile.GFile(bert_config_file, \"r\") as reader:\n",
    "      bc = StockBertConfig.from_json_string(reader.read())\n",
    "      bert_params = map_stock_config_to_params(bc)\n",
    "      bert_params.adapter_size = None\n",
    "      bert = BertModelLayer.from_params(bert_params, name=\"bert\")\n",
    "        \n",
    "  input_ids = keras.layers.Input(shape=(max_seq_len, ), dtype='int32', name=\"input_ids\")\n",
    "  bert_output = bert(input_ids)\n",
    "\n",
    "  print(\"bert shape\", bert_output.shape)\n",
    "\n",
    " \n",
    "  cls_out = keras.layers.Bidirectional(LSTM(units=69, dropout=0.5, recurrent_dropout = 0.5, return_sequences=True))(bert_output)\n",
    "  cls_out = keras.layers.LSTM(units=138, dropout=0.5, recurrent_dropout = 0.5, return_sequences=False)(cls_out)\n",
    "  cls_out = keras.layers.Dense(138, activation='relu',kernel_regularizer=regularizers.l1(1e-3))(cls_out)\n",
    "  cls_out = keras.layers.Dropout(0.5)(cls_out)\n",
    "\n",
    "  logits = keras.layers.Dense(units=len(classes), activation=\"softmax\")(cls_out)\n",
    "\n",
    "  model = keras.Model(inputs=input_ids, outputs=logits)\n",
    "  model.build(input_shape=(None, max_seq_len))\n",
    "\n",
    "  load_stock_weights(bert, bert_ckpt_file)\n",
    "        \n",
    "  return model"
   ]
  },
  {
   "cell_type": "code",
   "execution_count": 20,
   "id": "pediatric-period",
   "metadata": {},
   "outputs": [],
   "source": [
    "classes = train.intent.unique().tolist()"
   ]
  },
  {
   "cell_type": "code",
   "execution_count": 21,
   "id": "detected-daily",
   "metadata": {},
   "outputs": [
    {
     "name": "stderr",
     "output_type": "stream",
     "text": [
      "1600000it [07:34, 3522.86it/s]\n",
      "C:\\Users\\86188\\anaconda3\\envs\\py36\\lib\\site-packages\\ipykernel_launcher.py:31: VisibleDeprecationWarning: Creating an ndarray from ragged nested sequences (which is a list-or-tuple of lists-or-tuples-or ndarrays with different lengths or shapes) is deprecated. If you meant to do this, you must specify 'dtype=object' when creating the ndarray\n",
      "1600it [00:00, 3534.31it/s]\n"
     ]
    },
    {
     "name": "stdout",
     "output_type": "stream",
     "text": [
      "max seq_len 230\n"
     ]
    }
   ],
   "source": [
    "data = IntentDetectionData(train, test, tokenizer, classes, max_seq_len=49)"
   ]
  },
  {
   "cell_type": "code",
   "execution_count": 22,
   "id": "olive-services",
   "metadata": {},
   "outputs": [
    {
     "data": {
      "text/plain": [
       "(1600000, 2)"
      ]
     },
     "execution_count": 22,
     "metadata": {},
     "output_type": "execute_result"
    }
   ],
   "source": [
    "train.shape"
   ]
  },
  {
   "cell_type": "code",
   "execution_count": 23,
   "id": "advised-nelson",
   "metadata": {},
   "outputs": [
    {
     "data": {
      "text/plain": [
       "(1600000, 49)"
      ]
     },
     "execution_count": 23,
     "metadata": {},
     "output_type": "execute_result"
    }
   ],
   "source": [
    "data.train_x.shape"
   ]
  },
  {
   "cell_type": "code",
   "execution_count": 24,
   "id": "regional-dictionary",
   "metadata": {},
   "outputs": [
    {
     "data": {
      "text/plain": [
       "array([    0,     0,     0,     0,     0,     0,     0,     0,     0,\n",
       "           0,     0,     0,     0,     0,     0,     0,     0,     0,\n",
       "           0,     0,     0,     0,     0,     0,     0,     0,     0,\n",
       "           0,     0,     0,     0,     0,     0,     0,     0,     0,\n",
       "           0,     0,     0,     0,     0,   101,  6300, 11057,  1012,\n",
       "        8840,  2140,  1012,   102])"
      ]
     },
     "execution_count": 24,
     "metadata": {},
     "output_type": "execute_result"
    }
   ],
   "source": [
    "data.train_x[6700]"
   ]
  },
  {
   "cell_type": "code",
   "execution_count": 25,
   "id": "honey-incentive",
   "metadata": {},
   "outputs": [
    {
     "name": "stdout",
     "output_type": "stream",
     "text": [
      "bert shape (None, 49, 768)\n",
      "Done loading 196 BERT weights from: model/uncased_L-12_H-768_A-12\\bert_model.ckpt into <bert.model.BertModelLayer object at 0x0000028910586FD0> (prefix:bert). Count of weights not found in the checkpoint was: [0]. Count of weights with mismatched shape: [0]\n",
      "Unused weights from checkpoint: \n",
      "\tbert/embeddings/token_type_embeddings\n",
      "\tbert/pooler/dense/bias\n",
      "\tbert/pooler/dense/kernel\n",
      "\tcls/predictions/output_bias\n",
      "\tcls/predictions/transform/LayerNorm/beta\n",
      "\tcls/predictions/transform/LayerNorm/gamma\n",
      "\tcls/predictions/transform/dense/bias\n",
      "\tcls/predictions/transform/dense/kernel\n",
      "\tcls/seq_relationship/output_bias\n",
      "\tcls/seq_relationship/output_weights\n"
     ]
    }
   ],
   "source": [
    "model = create_model(data.max_seq_len, bert_ckpt_file)"
   ]
  },
  {
   "cell_type": "code",
   "execution_count": 26,
   "id": "centered-cheese",
   "metadata": {},
   "outputs": [
    {
     "name": "stdout",
     "output_type": "stream",
     "text": [
      "Model: \"model\"\n",
      "_________________________________________________________________\n",
      "Layer (type)                 Output Shape              Param #   \n",
      "=================================================================\n",
      "input_ids (InputLayer)       [(None, 49)]              0         \n",
      "_________________________________________________________________\n",
      "bert (BertModelLayer)        (None, 49, 768)           108890112 \n",
      "_________________________________________________________________\n",
      "bidirectional (Bidirectional (None, 49, 138)           462576    \n",
      "_________________________________________________________________\n",
      "lstm_1 (LSTM)                (None, 138)               152904    \n",
      "_________________________________________________________________\n",
      "dense (Dense)                (None, 138)               19182     \n",
      "_________________________________________________________________\n",
      "dropout (Dropout)            (None, 138)               0         \n",
      "_________________________________________________________________\n",
      "dense_1 (Dense)              (None, 2)                 278       \n",
      "=================================================================\n",
      "Total params: 109,525,052\n",
      "Trainable params: 109,525,052\n",
      "Non-trainable params: 0\n",
      "_________________________________________________________________\n"
     ]
    }
   ],
   "source": [
    "model.summary()"
   ]
  },
  {
   "cell_type": "code",
   "execution_count": 27,
   "id": "settled-outdoors",
   "metadata": {},
   "outputs": [],
   "source": [
    "# 自动降低learning rate\n",
    "lr_reduction = ReduceLROnPlateau(monitor='val_loss',\n",
    "                                       factor=0.1, min_lr=1e-8, patience=0,\n",
    "                                       verbose=1)"
   ]
  },
  {
   "cell_type": "code",
   "execution_count": 28,
   "id": "continent-eligibility",
   "metadata": {},
   "outputs": [],
   "source": [
    "# 建立一个权重的存储点\n",
    "path_checkpoint  = 'lr_{}.hdf5'.format('Twitter5')\n",
    "checkpoint = ModelCheckpoint(filepath=path_checkpoint, monitor='val_loss',\n",
    "                                      verbose=1, save_weights_only=True,\n",
    "                                      save_best_only=True)"
   ]
  },
  {
   "cell_type": "code",
   "execution_count": 29,
   "id": "drawn-tsunami",
   "metadata": {},
   "outputs": [],
   "source": [
    "# 尝试加载已训练模型\n",
    "try:\n",
    "    model.load_weights(path_checkpoint)\n",
    "except Exception as e:\n",
    "    print(e)"
   ]
  },
  {
   "cell_type": "code",
   "execution_count": 30,
   "id": "beautiful-brass",
   "metadata": {},
   "outputs": [],
   "source": [
    "# 定义early stoping如果3个epoch内validation loss没有改善则停止训练\n",
    "earlystopping = EarlyStopping(monitor='val_loss', patience=5, verbose=1)"
   ]
  },
  {
   "cell_type": "code",
   "execution_count": 31,
   "id": "stock-sleeping",
   "metadata": {},
   "outputs": [],
   "source": [
    "# 定义callback函数\n",
    "callbacks = [\n",
    "    earlystopping, \n",
    "    checkpoint,\n",
    "    lr_reduction\n",
    "]"
   ]
  },
  {
   "cell_type": "code",
   "execution_count": 32,
   "id": "proper-helmet",
   "metadata": {},
   "outputs": [],
   "source": [
    "model.compile(\n",
    "  optimizer=keras.optimizers.Adam(1e-5),\n",
    "  loss=keras.losses.SparseCategoricalCrossentropy(from_logits=True),\n",
    "  metrics=[keras.metrics.SparseCategoricalAccuracy(name=\"acc\")]\n",
    ")"
   ]
  },
  {
   "cell_type": "code",
   "execution_count": null,
   "id": "embedded-shoulder",
   "metadata": {},
   "outputs": [
    {
     "name": "stdout",
     "output_type": "stream",
     "text": [
      "Train on 1280000 samples, validate on 320000 samples\n",
      "Epoch 1/20\n",
      "1279984/1280000 [============================>.] - ETA: 0s - loss: 0.4574 - acc: 0.8628\n",
      "Epoch 00001: val_loss improved from inf to 0.48738, saving model to lr_Twitter5.hdf5\n",
      "1280000/1280000 [==============================] - 35429s 28ms/sample - loss: 0.4574 - acc: 0.8628 - val_loss: 0.4874 - val_acc: 0.8269\n",
      "Epoch 2/20\n",
      "1279984/1280000 [============================>.] - ETA: 0s - loss: 0.4377 - acc: 0.8797\n",
      "Epoch 00002: val_loss improved from 0.48738 to 0.48576, saving model to lr_Twitter5.hdf5\n",
      "1280000/1280000 [==============================] - 35345s 28ms/sample - loss: 0.4377 - acc: 0.8797 - val_loss: 0.4858 - val_acc: 0.8281\n",
      "Epoch 3/20\n",
      "1279984/1280000 [============================>.] - ETA: 0s - loss: 0.4257 - acc: 0.8910\n",
      "Epoch 00003: val_loss improved from 0.48576 to 0.48083, saving model to lr_Twitter5.hdf5\n",
      "1280000/1280000 [==============================] - 35357s 28ms/sample - loss: 0.4257 - acc: 0.8910 - val_loss: 0.4808 - val_acc: 0.8302\n",
      "Epoch 4/20\n",
      "1279984/1280000 [============================>.] - ETA: 0s - loss: 0.4173 - acc: 0.8996\n",
      "Epoch 00004: val_loss improved from 0.48083 to 0.48066, saving model to lr_Twitter5.hdf5\n",
      "1280000/1280000 [==============================] - 35367s 28ms/sample - loss: 0.4172 - acc: 0.8996 - val_loss: 0.4807 - val_acc: 0.8324\n",
      "Epoch 5/20\n",
      "1279984/1280000 [============================>.] - ETA: 0s - loss: 0.4112 - acc: 0.9054\n",
      "Epoch 00005: val_loss did not improve from 0.48066\n",
      "\n",
      "Epoch 00005: ReduceLROnPlateau reducing learning rate to 9.999999747378752e-07.\n",
      "1280000/1280000 [==============================] - 35356s 28ms/sample - loss: 0.4112 - acc: 0.9054 - val_loss: 0.4826 - val_acc: 0.8297\n",
      "Epoch 6/20\n",
      "1279984/1280000 [============================>.] - ETA: 0s - loss: 0.3978 - acc: 0.9194\n",
      "Epoch 00006: val_loss improved from 0.48066 to 0.47822, saving model to lr_Twitter5.hdf5\n",
      "1280000/1280000 [==============================] - 35374s 28ms/sample - loss: 0.3978 - acc: 0.9194 - val_loss: 0.4782 - val_acc: 0.8353\n",
      "Epoch 7/20\n",
      "1279984/1280000 [============================>.] - ETA: 0s - loss: 0.3930 - acc: 0.9245\n",
      "Epoch 00007: val_loss improved from 0.47822 to 0.47696, saving model to lr_Twitter5.hdf5\n",
      "1280000/1280000 [==============================] - 35349s 28ms/sample - loss: 0.3930 - acc: 0.9245 - val_loss: 0.4770 - val_acc: 0.8362\n",
      "Epoch 8/20\n",
      "1279984/1280000 [============================>.] - ETA: 0s - loss: 0.3900 - acc: 0.9276\n",
      "Epoch 00008: val_loss did not improve from 0.47696\n",
      "\n",
      "Epoch 00008: ReduceLROnPlateau reducing learning rate to 9.999999974752428e-08.\n",
      "1280000/1280000 [==============================] - 35387s 28ms/sample - loss: 0.3900 - acc: 0.9276 - val_loss: 0.4777 - val_acc: 0.8360\n",
      "Epoch 9/20\n",
      "1279984/1280000 [============================>.] - ETA: 0s - loss: 0.3871 - acc: 0.9306\n",
      "Epoch 00009: val_loss did not improve from 0.47696\n",
      "\n",
      "Epoch 00009: ReduceLROnPlateau reducing learning rate to 1.0000000116860975e-08.\n",
      "1280000/1280000 [==============================] - 35389s 28ms/sample - loss: 0.3871 - acc: 0.9306 - val_loss: 0.4777 - val_acc: 0.8361\n",
      "Epoch 10/20\n",
      "1279984/1280000 [============================>.] - ETA: 0s - loss: 0.3868 - acc: 0.9309\n",
      "Epoch 00010: val_loss did not improve from 0.47696\n",
      "1280000/1280000 [==============================] - 35380s 28ms/sample - loss: 0.3868 - acc: 0.9309 - val_loss: 0.4776 - val_acc: 0.8362\n",
      "Epoch 11/20\n",
      " 912416/1280000 [====================>.........] - ETA: 2:41:22 - loss: 0.3870 - acc: 0.9308"
     ]
    }
   ],
   "source": [
    "current_time = datetime.datetime.now().strftime(\"%Y%m%d-%H%M%S\")\n",
    "logdir = os.path.join('logs', current_time)\n",
    "tensorboard_callback = keras.callbacks.TensorBoard(log_dir=logdir)\n",
    "\n",
    "history = model.fit(\n",
    "  x=data.train_x, \n",
    "  y=data.train_y,\n",
    "  validation_split=0.2,\n",
    "  batch_size= 16,\n",
    "  shuffle=True,\n",
    "  epochs=20,\n",
    "  callbacks=callbacks\n",
    ")"
   ]
  },
  {
   "cell_type": "code",
   "execution_count": null,
   "id": "eligible-rings",
   "metadata": {},
   "outputs": [],
   "source": []
  }
 ],
 "metadata": {
  "kernelspec": {
   "display_name": "Python 3",
   "language": "python",
   "name": "python3"
  },
  "language_info": {
   "codemirror_mode": {
    "name": "ipython",
    "version": 3
   },
   "file_extension": ".py",
   "mimetype": "text/x-python",
   "name": "python",
   "nbconvert_exporter": "python",
   "pygments_lexer": "ipython3",
   "version": "3.6.12"
  }
 },
 "nbformat": 4,
 "nbformat_minor": 5
}
